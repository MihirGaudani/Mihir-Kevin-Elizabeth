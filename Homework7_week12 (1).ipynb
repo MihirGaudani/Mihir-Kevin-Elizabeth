{
  "cells": [
    {
      "cell_type": "markdown",
      "metadata": {
        "id": "Qh5Mn77l0p5Z"
      },
      "source": [
        "### Useful Numbers\n",
        "Avogadros number: $6.02\\times10^{23}$ atoms/mole\n",
        "\n",
        "$1 MeV = 1.602\\times10^{-13}J$ (J = Joules)\n",
        "\n",
        "*For reference:* Calculations from class have been included in a separate notebook that can be found in the Week 11 folder under Files on bCourses."
      ]
    },
    {
      "cell_type": "markdown",
      "metadata": {
        "id": "k5XAwK_I0p5a"
      },
      "source": [
        "### Problem 1: Energy from Radon\n",
        "\n",
        "The average home in the US contains ~0.019 pico-grams ($10^{-12} g$) of Rn/$m^3$ (Rn = Radon).\n",
        "\n",
        "**1.a** What is the corresponding Bq/$m^3$?\n",
        "\n",
        "*NOTE: We will include all of the daughter decays that occur with short half-lives relative to the ~4 day half-life of Radon in the determination of the total energy produced per decay, but do not include those here in the determination of activity. For the purposes of this excersize, all daughter decays are considered part of the Radon decay.*"
      ]
    },
    {
      "cell_type": "markdown",
      "source": [
        "110 Bq/m^3"
      ],
      "metadata": {
        "id": "fFi3lG0V1F0A"
      }
    },
    {
      "cell_type": "markdown",
      "metadata": {
        "id": "TvFadsc20p5a"
      },
      "source": [
        "**1.b** If we assume all of the short half-life daughters following the Rn decay to be part of the same disintegration, how much energy is being produced  by this activity? (in units of MeV/$m^3$/s)\n",
        "\n",
        "The decays you should include are:\n",
        "\n",
        "$\\;\\;\\;\\; ^{222}_{86}Rn\\;(3.82d) \\;\\rightarrow\\; ^{218}_{84}P\\;\\;\\;\\;\\;\\;\\;\\;\\;\\;\\;\\;\\;\\;(\\text{by } \\alpha \\text{ decay, }5.49 MeV)$\n",
        "\n",
        "$\\;\\;\\;\\; ^{218}_{84}Po\\;(3.05\\;\\text{min})\\;\\rightarrow\\; ^{214}_{82}Pb \\;\\;\\;\\;\\;\\;\\;\\;(\\text{by } \\alpha \\text{ decay, }6.0 MeV)$\n",
        "\n",
        "$\\;\\;\\;\\; ^{214}_{82}Pb\\;(26.8\\;\\text{min})\\;\\rightarrow\\; ^{214}_{83}Bi \\;\\;\\;\\;\\;\\;\\;\\;\\;(\\text{by } \\beta \\text{ decay, }1.02 MeV \\text{max})$\n",
        "\n",
        "$\\;\\;\\;\\; ^{214}_{83}Bi\\;(19.7\\;\\text{min})\\;\\rightarrow\\; ^{214}_{84}Po \\;\\;\\;\\;\\;\\;\\;\\;\\;(\\text{by } \\beta \\text{ decay, }3.27 MeV \\text{max})$\n",
        "\n",
        "$\\;\\;\\;\\; ^{214}_{84}Po\\;(164\\;\\mu s)\\;\\rightarrow\\; ^{210}_{82}Pb \\;\\;\\;\\;\\;\\;\\;\\;\\;\\;\\;(\\text{by } \\alpha \\text{ decay, }7.69 MeV)$\n",
        "\n",
        "*NOTE: You should estimate the average energy for $\\beta$ decays as $1/3$ of the maximum*\n"
      ]
    },
    {
      "cell_type": "markdown",
      "source": [
        "2200 MeV/m^3s"
      ],
      "metadata": {
        "id": "B0vKYCnN1LC1"
      }
    },
    {
      "cell_type": "markdown",
      "metadata": {
        "id": "2eTgulpo0p5a"
      },
      "source": [
        "**1.c** In a $25 m^3$ room, how much energy in Joules is being produced from Radon (per second)? How does this compare to a ~10W (Joules/s) LED light bulb?"
      ]
    },
    {
      "cell_type": "markdown",
      "source": [
        "8.9 x 10^-9 J is being produced by the Radon. Compared to a 10 W lightbulb, the bulb is 1.1x10^9 times the energy of Radon."
      ],
      "metadata": {
        "id": "76j3P44x15IT"
      }
    },
    {
      "cell_type": "markdown",
      "metadata": {
        "id": "xD-X229c0p5a"
      },
      "source": [
        "### Problem 2. Dose from Radon\n",
        "\n",
        "**2.a** Neglecting gamma-radiation, and assuming full absorption of beta and alpha decays, what is the corresponding dose-rate in mGy/yr (milliGray/year) using your answer from problem 1? NOTE: assume a lung flow-rate of 20 liters/minute.\n",
        "\n",
        "*HINT: This is the dose to the human body, so assume a body mass of 70kg*\n",
        "\n",
        "*HINT: The flow-rate is given per minute, so it seems there are too many per-time units. Calculate energy/minute in a 20 L volume from Radon decays and assume this is what goes into your absorbed dose per minute.*"
      ]
    },
    {
      "cell_type": "markdown",
      "source": [
        "5.4*10^-5 mGy/yr\n",
        "\n"
      ],
      "metadata": {
        "id": "wxUbmOBz3mQi"
      }
    },
    {
      "cell_type": "markdown",
      "metadata": {
        "id": "bwrIAdqz0p5b"
      },
      "source": [
        "**2.b** What equivalent dose (mSv/yr) does this correspond to?\n",
        "\n",
        "*NOTE: Use the weight-factors indicated in the lecture slides (slide 9)*"
      ]
    },
    {
      "cell_type": "markdown",
      "source": [
        "1*10^-3 mSv/yr"
      ],
      "metadata": {
        "id": "DS6LLK7d4fE9"
      }
    },
    {
      "cell_type": "markdown",
      "metadata": {
        "id": "K-iNarro0p5b"
      },
      "source": [
        "**2.c** How does this dose-rate compare to what we determined the internal dose from K-40 to be in class?\n",
        "\n",
        "*NOTE: The final corrected values for the internal dose from K-40 was $0.256\\;mSv/yr$ from $\\beta s$ and $0.049\\;mSv/yr$ from $\\gamma s$.*"
      ]
    },
    {
      "cell_type": "markdown",
      "source": [
        "The dose rate from beta's, only 0.4% was from K-40, and there is no dose rate from gammas from radon as it doesn't emit any in the decay chain."
      ],
      "metadata": {
        "id": "CdVRt_Z14xG0"
      }
    },
    {
      "cell_type": "markdown",
      "metadata": {
        "id": "CqNLU8-O0p5b"
      },
      "source": [
        "**2.d** What total equivalent dose (mSv/yr) do we get from these internal sources (combining K-40 and Rn-86)? How does this compare to the average total dose world-wide?\n",
        "\n",
        "*NOTE: Reference class slides for the average world-wide dose (3mSv/yr)*"
      ]
    },
    {
      "cell_type": "markdown",
      "source": [
        "Our internal dose from K-40 and Rn-86 is only about 0.306 mSv/yr, this means it only accounts for 10% of the total average dose"
      ],
      "metadata": {
        "id": "IAIPLZOF5UO5"
      }
    },
    {
      "cell_type": "markdown",
      "metadata": {
        "id": "fo5wtLs80p5b"
      },
      "source": [
        "**2.e** Why might our estimated yearly dose be off from the actual average yearly dose?\n",
        "\n",
        "*NOTE: List all possible sources of descrepancy, even if they go in the wrong direction or you got a reasonable estimate*"
      ]
    },
    {
      "cell_type": "markdown",
      "source": [
        "Background radiation, we aren't spending the whole year indoors, other radioactive contaminants in our enviornment, xrays and other medical equipment, we also assume full absorption."
      ],
      "metadata": {
        "id": "pRLhJRmn5jTD"
      }
    }
  ],
  "metadata": {
    "kernelspec": {
      "display_name": "Python 3 (ipykernel)",
      "language": "python",
      "name": "python3"
    },
    "language_info": {
      "codemirror_mode": {
        "name": "ipython",
        "version": 3
      },
      "file_extension": ".py",
      "mimetype": "text/x-python",
      "name": "python",
      "nbconvert_exporter": "python",
      "pygments_lexer": "ipython3",
      "version": "3.11.5"
    },
    "colab": {
      "provenance": []
    }
  },
  "nbformat": 4,
  "nbformat_minor": 0
}